{
 "cells": [
  {
   "cell_type": "markdown",
   "metadata": {},
   "source": [
    "# Classroom 6 - Training a Named Entity Recognition Model with a LSTM"
   ]
  },
  {
   "cell_type": "markdown",
   "metadata": {},
   "source": [
    "The classroom today is primarily geared towards preparing you for Assignment 4 which you'll be working on after today. The notebook is split into three main parts to get you thinking. You should work through these sections in groups together in class. \n",
    "\n",
    "If you have any questions or things you don't understand, make a note of them so you can remember to ask - or, even better, post them to Slack!\n",
    "\n",
    "If you get through everything here, make a start on the assignment. If you don't, dont' worry about it - but I suggest you finish all of the exercises here before starting the assignment."
   ]
  },
  {
   "cell_type": "markdown",
   "metadata": {},
   "source": [
    "## 1. A very short intro to NER\n",
    "Named entity recognition (NER) also known as named entity extraction, and entity identification is the task of tagging an entity is the task of extracting which seeks to extract named entities from unstructured text into predefined categories such as names, medical codes, quantities or similar.\n",
    "\n",
    "The most common variant is the [CoNLL-20003](https://www.clips.uantwerpen.be/conll2003/ner/) format which uses the categories, person (PER), organization (ORG) location (LOC) and miscellaneous (MISC), which for example denote cases such nationalies. For example:\n",
    "\n",
    "*Hello my name is $Ross_{PER}$ I live in $Aarhus_{LOC}$ and work at $AU_{ORG}$.*\n",
    "\n",
    "For example, let's see how this works with ```spaCy```. NB: you might need to remember to install a ```spaCy``` model:\n",
    "\n",
    "```python -m spacy download en_core_web_sm```"
   ]
  },
  {
   "cell_type": "code",
   "execution_count": null,
   "metadata": {},
   "outputs": [],
   "source": [
    "#A RANDOM VISUALISATION UNRELATED TO THE PROCESSES\n",
    "\n",
    "#import spacy\n",
    "\n",
    "#nlp = spacy.load(\"en_core_web_sm\")\n",
    "#doc = nlp(\"Hello my name is Ross. I live in Denmark and work at Aarhus University, I am Scottish and today is Friday 27th.\")"
   ]
  },
  {
   "cell_type": "code",
   "execution_count": null,
   "metadata": {},
   "outputs": [],
   "source": [
    "#from spacy import displacy\n",
    "#displacy.render(doc, style=\"ent\")"
   ]
  },
  {
   "cell_type": "markdown",
   "metadata": {},
   "source": [
    "## Tagging standards\n",
    "There exist different tag standards for NER. The most used one is the BIO-format which frames the task as token classification denoting inside, outside and beginning of a token. \n",
    "\n",
    "Words marked with *O* are not a named entity. Words with NER tags which start with *B-\\** indicate the start of a multiword entity (i.e. *B-ORG* for the *Aarhus* in *Aarhus University*), while *I-\\** indicate the continuation of a token (e.g. University).\n",
    "\n",
    "    B = Beginning\n",
    "    I = Inside\n",
    "    O = Outside\n",
    "\n",
    "<details>\n",
    "<summary>Q: What other formats and standards are available? What kinds of entities do they make it possible to tag?</summary>\n",
    "<br>\n",
    "You can see more examples on the spaCy documentation for their [different models(https://spacy.io/models/en)\n",
    "</details>\n"
   ]
  },
  {
   "cell_type": "code",
   "execution_count": 1,
   "metadata": {},
   "outputs": [
    {
     "ename": "NameError",
     "evalue": "name 'doc' is not defined",
     "output_type": "error",
     "traceback": [
      "\u001b[0;31m---------------------------------------------------------------------------\u001b[0m",
      "\u001b[0;31mNameError\u001b[0m                                 Traceback (most recent call last)",
      "Cell \u001b[0;32mIn [1], line 1\u001b[0m\n\u001b[0;32m----> 1\u001b[0m \u001b[38;5;28;01mfor\u001b[39;00m t \u001b[38;5;129;01min\u001b[39;00m \u001b[43mdoc\u001b[49m:\n\u001b[1;32m      2\u001b[0m     \u001b[38;5;28;01mif\u001b[39;00m t\u001b[38;5;241m.\u001b[39ment_type:\n\u001b[1;32m      3\u001b[0m         \u001b[38;5;28mprint\u001b[39m(t, \u001b[38;5;124mf\u001b[39m\u001b[38;5;124m\"\u001b[39m\u001b[38;5;132;01m{\u001b[39;00mt\u001b[38;5;241m.\u001b[39ment_iob_\u001b[38;5;132;01m}\u001b[39;00m\u001b[38;5;124m-\u001b[39m\u001b[38;5;132;01m{\u001b[39;00mt\u001b[38;5;241m.\u001b[39ment_type_\u001b[38;5;132;01m}\u001b[39;00m\u001b[38;5;124m\"\u001b[39m)\n",
      "\u001b[0;31mNameError\u001b[0m: name 'doc' is not defined"
     ]
    }
   ],
   "source": [
    "#EXAMPLE OF SOMETHING FROM SPACY, NOT SURE IF PRETAGGED OR GETTING TAGGED IN THE CODE SOMEWHERE\n",
    "#for t in doc:\n",
    "#    if t.ent_type:\n",
    "#        print(t, f\"{t.ent_iob_}-{t.ent_type_}\")\n",
    "#    else:\n",
    "#        print(t, t.ent_iob_)"
   ]
  },
  {
   "cell_type": "markdown",
   "metadata": {},
   "source": [
    "### Some challenges with NER\n",
    "While NER is currently framed as above this formulating does contain some limitations. \n",
    "\n",
    "For instance the entity Aarhus University really refers to both the location Aarhus, the University within Aarhus, thus nested NER (N-NER) argues that it would be more correct to tag it in a nested fashion as \\[\\[$Aarhus_{LOC}$\\] $University$\\]$_{ORG}$ (Plank, 2020). \n",
    "\n",
    "Other task also include named entity linking. Which is the task of linking an entity to e.g. a wikipedia entry, thus you have to both know that it is indeed an entity and which entity it is (if it is indeed a defined entity).\n",
    "\n",
    "In this assignment, we'll be using Bi-LSTMs to train an NER model on a predifined data set which uses IOB tags of the kind we outlined above."
   ]
  },
  {
   "cell_type": "markdown",
   "metadata": {},
   "source": [
    "## 2. Training in batches\n",
    "\n",
    "When you trained your document classifier for the last assignment, you probably noticed that the neural network was quite brittle. Small changes in the hyperparameters could cause massive changes in performance. Likewise, you probably noticed that they tend to substantially overfit the training data and underperform on the validation and test data.\n",
    "\n",
    "One way we can get around this is by processing the data in smaller chunks known as *batches*. \n",
    "\n",
    "<details>\n",
    "<summary>Q: Why might it be a good idea to train on batches, rather than the whole dataset?</summary>\n",
    "<br>\n",
    "These batches are usually small (something like 32 instances at a time) but they have couple of important effects on training:\n",
    "\n",
    "- Batches can be processed in parallel, rather the sequentially. This can result in substantial speed up from computational perspective\n",
    "- Similarly, smaller batch sizes make it easier to fit training data into memory\n",
    "- Lastly,  smaller batch sizes are noisy, meaning that they have a regularizing effect and thus lead to less overfitting.\n",
    "\n",
    "In this assignment, we're going to be using batches of data to train our NER model. To do that, we first have to prepare our batches for training. You can read more about batching in [this blog post](https://machinelearningmastery.com/how-to-control-the-speed-and-stability-of-training-neural-networks-with-gradient-descent-batch-size/).\n",
    "\n",
    "</details>\n",
    "\n"
   ]
  },
  {
   "cell_type": "code",
   "execution_count": 2,
   "metadata": {},
   "outputs": [],
   "source": [
    "# this allows us to look one step up in the directory\n",
    "# for importing custom modules from src\n",
    "import sys\n",
    "sys.path.append(\"..\")\n",
    "from src.util import batch\n",
    "from src.LSTM import RNN\n",
    "from src.embedding import gensim_to_torch_embedding\n",
    "\n",
    "# numpy and pytorch\n",
    "import numpy as np\n",
    "import torch\n",
    "\n",
    "# loading data and embeddings\n",
    "from datasets import load_dataset\n",
    "import gensim.downloader as api"
   ]
  },
  {
   "cell_type": "markdown",
   "metadata": {},
   "source": [
    "We can download the datset using the ```load_dataset()``` function we've already seen. Here we take only the training data.\n",
    "\n",
    "When you've downloaded the dataset, you're welcome to save a local copy so that we don't need to constantly download it again everytime the code runs.\n",
    "\n",
    "Q: What do the ```train.features``` values refer to?"
   ]
  },
  {
   "cell_type": "code",
   "execution_count": 4,
   "metadata": {},
   "outputs": [
    {
     "name": "stderr",
     "output_type": "stream",
     "text": [
      "Found cached dataset conllpp (/home/coder/.cache/huggingface/datasets/conllpp/conllpp/1.0.0/04f15f257dff3fe0fb36e049b73d51ecdf382698682f5e590b7fb13898206ba2)\n"
     ]
    },
    {
     "data": {
      "application/vnd.jupyter.widget-view+json": {
       "model_id": "86fb12bf453f4ab5b35e3ebb126d6348",
       "version_major": 2,
       "version_minor": 0
      },
      "text/plain": [
       "  0%|          | 0/3 [00:00<?, ?it/s]"
      ]
     },
     "metadata": {},
     "output_type": "display_data"
    },
    {
     "name": "stdout",
     "output_type": "stream",
     "text": [
      "[['EU', 'rejects', 'German', 'call', 'to', 'boycott', 'British', 'lamb', '.']]\n",
      "[[3, 0, 7, 0, 0, 0, 7, 0, 0]]\n"
     ]
    }
   ],
   "source": [
    "# DATASET\n",
    "dataset = load_dataset(\"conllpp\")\n",
    "train = dataset[\"train\"]\n",
    "\n",
    "# inspect the dataset\n",
    "print(train[\"tokens\"][:1])\n",
    "print(train[\"ner_tags\"][:1])\n",
    "\n",
    "# get number of classes\n",
    "num_classes = train.features[\"ner_tags\"].feature.num_classes"
   ]
  },
  {
   "cell_type": "markdown",
   "metadata": {},
   "source": [
    "We then use ```gensim``` to get some pretrained word embeddings for the input layer to the model. \n",
    "\n",
    "In this example, we're going to use a GloVe model pretrained on Wikipedia, with 50 dimensions.\n",
    "\n",
    "I've provided a helper function to take the ```gensim``` embeddings and prepare them for ```pytorch```."
   ]
  },
  {
   "cell_type": "code",
   "execution_count": 5,
   "metadata": {},
   "outputs": [],
   "source": [
    "# CONVERTING EMBEDDINGS\n",
    "model = api.load(\"glove-wiki-gigaword-50\")\n",
    "\n",
    "# convert gensim word embedding to torch word embedding\n",
    "embedding_layer, vocab = gensim_to_torch_embedding(model)"
   ]
  },
  {
   "cell_type": "markdown",
   "metadata": {},
   "source": [
    "### Preparing a batch\n",
    "\n",
    "The first thing we want to do is to shuffle our dataset before training. \n",
    "\n",
    "Why might it be a good idea to shuffle the data?"
   ]
  },
  {
   "cell_type": "code",
   "execution_count": 6,
   "metadata": {},
   "outputs": [
    {
     "name": "stderr",
     "output_type": "stream",
     "text": [
      "Loading cached shuffled indices for dataset at /home/coder/.cache/huggingface/datasets/conllpp/conllpp/1.0.0/04f15f257dff3fe0fb36e049b73d51ecdf382698682f5e590b7fb13898206ba2/cache-bba38be1af2f532c.arrow\n"
     ]
    }
   ],
   "source": [
    "# shuffle dataset\n",
    "shuffled_train = dataset[\"train\"].shuffle(seed=1)"
   ]
  },
  {
   "cell_type": "markdown",
   "metadata": {},
   "source": [
    "Next, we want to bundle the shuffled training data into smaller batches of predefined size. I've written a small utility function here to help. \n",
    "\n",
    "<details>\n",
    "<summary>Q: Can you explain how the ```batch()``` function works?</summary>\n",
    "<br>\n",
    " Hint: Check out [this link](https://realpython.com/introduction-to-python-generators/).\n",
    "</details>\n",
    "\n"
   ]
  },
  {
   "cell_type": "code",
   "execution_count": 7,
   "metadata": {},
   "outputs": [],
   "source": [
    "#If this is run multiple times, stuff may go wrong; creates generator objects\n",
    "batch_size = 32\n",
    "batches_tokens = batch(shuffled_train[\"tokens\"], batch_size)\n",
    "batches_tags = batch(shuffled_train[\"ner_tags\"], batch_size)"
   ]
  },
  {
   "cell_type": "code",
   "execution_count": 9,
   "metadata": {},
   "outputs": [
    {
     "ename": "TypeError",
     "evalue": "'generator' object is not subscriptable",
     "output_type": "error",
     "traceback": [
      "\u001b[0;31m---------------------------------------------------------------------------\u001b[0m",
      "\u001b[0;31mTypeError\u001b[0m                                 Traceback (most recent call last)",
      "Cell \u001b[0;32mIn [9], line 1\u001b[0m\n\u001b[0;32m----> 1\u001b[0m \u001b[43mbatches_tokens\u001b[49m\u001b[43m[\u001b[49m\u001b[38;5;241;43m1\u001b[39;49m\u001b[43m]\u001b[49m\n",
      "\u001b[0;31mTypeError\u001b[0m: 'generator' object is not subscriptable"
     ]
    }
   ],
   "source": [
    "batches_tokens"
   ]
  },
  {
   "cell_type": "markdown",
   "metadata": {},
   "source": [
    "Next, we want to use the ```tokens_to_idx()``` function below on our batches.\n",
    "\n",
    "<details>\n",
    "<summary>Q: What is this function doing? Why is it doing it?</summary>\n",
    "<br>\n",
    "We're making everything lowercase and adding a new, arbitrary token called <UNK> to the vocabulary. This <UNK> means \"unknown\" and is used to replace out-of-vocabulary tokens in the data - i.e. tokens that don't appear in the vocabulary of the pretrained word embeddings.\n",
    "</details>\n"
   ]
  },
  {
   "cell_type": "code",
   "execution_count": 10,
   "metadata": {},
   "outputs": [],
   "source": [
    "def tokens_to_idx(tokens, vocab=model.key_to_index):\n",
    "    \"\"\"\n",
    "    - Write documentation for this function including type hints for each argument and return statement\n",
    "    - What does the .get method do?\n",
    "    - Why lowercase?\n",
    "    \"\"\"\n",
    "    return [vocab.get(t.lower(), vocab[\"UNK\"]) for t in tokens]"
   ]
  },
  {
   "cell_type": "code",
   "execution_count": 11,
   "metadata": {},
   "outputs": [
    {
     "name": "stdout",
     "output_type": "stream",
     "text": [
      "Help on built-in function next in module builtins:\n",
      "\n",
      "next(...)\n",
      "    next(iterator[, default])\n",
      "    \n",
      "    Return the next item from the iterator. If default is given and the iterator\n",
      "    is exhausted, it is returned instead of raising StopIteration.\n",
      "\n"
     ]
    }
   ],
   "source": [
    "help(next) # Seems to change generator to tuple"
   ]
  },
  {
   "cell_type": "markdown",
   "metadata": {},
   "source": [
    "We'll check below that everything is working as expected as expected by testing it on a single batch."
   ]
  },
  {
   "cell_type": "code",
   "execution_count": 12,
   "metadata": {},
   "outputs": [],
   "source": [
    "# sample using only the first batch; maybe this is the run that breaks when run multiple times\n",
    "batch_tokens = next(batches_tokens)\n",
    "batch_tags = next(batches_tags)\n",
    "batch_tok_idx = [tokens_to_idx(sent) for sent in batch_tokens]\n",
    "#list comprehension formulated differently:\n",
    "#for sent in batch_tokens\n",
    "#   tokens_to_idx(sent)"
   ]
  },
  {
   "cell_type": "code",
   "execution_count": 16,
   "metadata": {},
   "outputs": [
    {
     "data": {
      "text/plain": [
       "[[544, 3535],\n",
       " [19605, 947, 790, 176, 421, 46532, 57483, 904],\n",
       " [5330,\n",
       "  7764,\n",
       "  1161,\n",
       "  1644,\n",
       "  400000,\n",
       "  21157,\n",
       "  31,\n",
       "  1101,\n",
       "  7,\n",
       "  477,\n",
       "  3,\n",
       "  174,\n",
       "  93,\n",
       "  107797,\n",
       "  580,\n",
       "  9731,\n",
       "  1,\n",
       "  13,\n",
       "  4970,\n",
       "  5985,\n",
       "  1,\n",
       "  410,\n",
       "  865,\n",
       "  5330,\n",
       "  7764,\n",
       "  1161,\n",
       "  1644,\n",
       "  16,\n",
       "  2],\n",
       " [4825, 3195, 4760, 347581, 314, 2639],\n",
       " [4179, 400000],\n",
       " [65, 93147, 35913, 4762, 926, 8749, 156, 3, 4905, 49, 76, 364, 9, 508, 2],\n",
       " [8455, 4628, 23, 19658, 24],\n",
       " [2859, 16, 12, 0, 2072, 3, 96951, 78, 1307, 1358, 445, 4, 211, 23837, 2],\n",
       " [4020, 22, 614, 1518],\n",
       " [8,\n",
       "  41,\n",
       "  54,\n",
       "  835,\n",
       "  4,\n",
       "  2199,\n",
       "  59,\n",
       "  1174,\n",
       "  1,\n",
       "  8,\n",
       "  16,\n",
       "  3701,\n",
       "  1,\n",
       "  38,\n",
       "  3416,\n",
       "  49,\n",
       "  26,\n",
       "  17544,\n",
       "  4,\n",
       "  596,\n",
       "  0,\n",
       "  8868,\n",
       "  5,\n",
       "  1112,\n",
       "  7,\n",
       "  3667,\n",
       "  6595,\n",
       "  2],\n",
       " [0,\n",
       "  30773,\n",
       "  1890,\n",
       "  10811,\n",
       "  284343,\n",
       "  25,\n",
       "  1905,\n",
       "  4,\n",
       "  126,\n",
       "  6,\n",
       "  0,\n",
       "  1250,\n",
       "  85,\n",
       "  366,\n",
       "  6499,\n",
       "  17,\n",
       "  10974,\n",
       "  226,\n",
       "  34,\n",
       "  73996,\n",
       "  1827,\n",
       "  4,\n",
       "  802,\n",
       "  7,\n",
       "  7657,\n",
       "  410,\n",
       "  17,\n",
       "  17083,\n",
       "  226,\n",
       "  49,\n",
       "  502,\n",
       "  3,\n",
       "  0,\n",
       "  418,\n",
       "  3460,\n",
       "  2],\n",
       " [1193,\n",
       "  43,\n",
       "  30,\n",
       "  7145,\n",
       "  7,\n",
       "  54257,\n",
       "  2523,\n",
       "  5,\n",
       "  7,\n",
       "  668,\n",
       "  4,\n",
       "  1067,\n",
       "  74,\n",
       "  7,\n",
       "  5128,\n",
       "  354,\n",
       "  3,\n",
       "  1817,\n",
       "  1,\n",
       "  11030,\n",
       "  3,\n",
       "  7,\n",
       "  1800,\n",
       "  874,\n",
       "  5,\n",
       "  7,\n",
       "  400000,\n",
       "  2073,\n",
       "  2],\n",
       " [13697],\n",
       " [877, 2457, 1, 290, 561, 58, 241, 24],\n",
       " [37,\n",
       "  1127,\n",
       "  17,\n",
       "  20314,\n",
       "  1411,\n",
       "  1,\n",
       "  106,\n",
       "  0,\n",
       "  54673,\n",
       "  3,\n",
       "  560,\n",
       "  571,\n",
       "  1710,\n",
       "  1,\n",
       "  3,\n",
       "  70219,\n",
       "  10,\n",
       "  441,\n",
       "  1,\n",
       "  84235,\n",
       "  10,\n",
       "  470,\n",
       "  1,\n",
       "  100416,\n",
       "  10,\n",
       "  304,\n",
       "  5,\n",
       "  25907,\n",
       "  10,\n",
       "  344,\n",
       "  1,\n",
       "  18,\n",
       "  16,\n",
       "  2],\n",
       " [0,\n",
       "  1258,\n",
       "  116,\n",
       "  2978,\n",
       "  4,\n",
       "  12288,\n",
       "  3,\n",
       "  29576,\n",
       "  11167,\n",
       "  6,\n",
       "  510,\n",
       "  1010,\n",
       "  5,\n",
       "  396,\n",
       "  918,\n",
       "  1,\n",
       "  42,\n",
       "  1105,\n",
       "  0,\n",
       "  973,\n",
       "  3,\n",
       "  1094,\n",
       "  29576,\n",
       "  11167,\n",
       "  2],\n",
       " [0,\n",
       "  2536,\n",
       "  15,\n",
       "  1450,\n",
       "  13,\n",
       "  177,\n",
       "  6,\n",
       "  347,\n",
       "  202,\n",
       "  6,\n",
       "  2952,\n",
       "  5,\n",
       "  14,\n",
       "  170,\n",
       "  830,\n",
       "  21509,\n",
       "  74,\n",
       "  102,\n",
       "  11402,\n",
       "  7,\n",
       "  8,\n",
       "  1918,\n",
       "  8,\n",
       "  6,\n",
       "  0,\n",
       "  951,\n",
       "  464,\n",
       "  2],\n",
       " [5160,\n",
       "  23891,\n",
       "  1,\n",
       "  0,\n",
       "  276,\n",
       "  876,\n",
       "  6,\n",
       "  7,\n",
       "  4072,\n",
       "  964,\n",
       "  1475,\n",
       "  5,\n",
       "  1739,\n",
       "  2442,\n",
       "  2674,\n",
       "  1,\n",
       "  14,\n",
       "  1602,\n",
       "  3,\n",
       "  12094,\n",
       "  7,\n",
       "  461,\n",
       "  10545,\n",
       "  787,\n",
       "  1,\n",
       "  0,\n",
       "  10545,\n",
       "  283,\n",
       "  3,\n",
       "  15017,\n",
       "  16,\n",
       "  13,\n",
       "  177,\n",
       "  2],\n",
       " [62, 4, 344, 407, 2],\n",
       " [400000, 785, 24025, 23, 2038, 24, 12508, 4045],\n",
       " [2571, 1, 402, 1, 1204, 10, 1, 98, 1, 226, 24, 45],\n",
       " [11933,\n",
       "  45,\n",
       "  19339,\n",
       "  97315,\n",
       "  23,\n",
       "  2693,\n",
       "  5,\n",
       "  12591,\n",
       "  24,\n",
       "  1,\n",
       "  400000,\n",
       "  400000,\n",
       "  23,\n",
       "  3039,\n",
       "  24,\n",
       "  1],\n",
       " [104894, 1, 2238, 400000],\n",
       " [0,\n",
       "  635,\n",
       "  845,\n",
       "  163,\n",
       "  6017,\n",
       "  4461,\n",
       "  1,\n",
       "  38,\n",
       "  40,\n",
       "  26,\n",
       "  126,\n",
       "  1278,\n",
       "  3,\n",
       "  0,\n",
       "  186,\n",
       "  1,\n",
       "  1227,\n",
       "  103,\n",
       "  3139,\n",
       "  37,\n",
       "  195,\n",
       "  1,\n",
       "  3446,\n",
       "  19,\n",
       "  7,\n",
       "  9064,\n",
       "  2],\n",
       " [807, 3, 4989, 45, 348076, 367680, 400000, 400000, 400000, 2],\n",
       " [8, 150, 252, 57, 1731, 35, 1347, 744, 2],\n",
       " [8,\n",
       "  61,\n",
       "  0,\n",
       "  23,\n",
       "  1269,\n",
       "  24,\n",
       "  1215,\n",
       "  43,\n",
       "  9781,\n",
       "  137,\n",
       "  60,\n",
       "  378,\n",
       "  14,\n",
       "  120,\n",
       "  7,\n",
       "  3137,\n",
       "  3,\n",
       "  818,\n",
       "  5798,\n",
       "  120,\n",
       "  7,\n",
       "  9330,\n",
       "  1,\n",
       "  8,\n",
       "  18,\n",
       "  295,\n",
       "  2],\n",
       " [1147, 400000],\n",
       " [400000, 6169, 400000, 23, 2238, 24, 47381, 72615],\n",
       " [5680, 2],\n",
       " [2162, 11, 474, 8602, 52386, 10, 692, 249, 2],\n",
       " [297523, 188812, 10750, 23, 695, 24, 142151]]"
      ]
     },
     "execution_count": 16,
     "metadata": {},
     "output_type": "execute_result"
    }
   ],
   "source": [
    "type(batch_tokens)\n",
    "batch_tok_idx"
   ]
  },
  {
   "cell_type": "markdown",
   "metadata": {},
   "source": [
    "As with document classification, our model needs to take input sequences of a fixed length. To get around this we do a couple of different steps.\n",
    "\n",
    "- Find the length of the longest sequence in the batch\n",
    "- Pad shorter sequences to the max length using an arbitrary token like <PAD>\n",
    "- Give the <PAD> token a new label ```-1``` to differentiate it from the other labels"
   ]
  },
  {
   "cell_type": "code",
   "execution_count": 17,
   "metadata": {},
   "outputs": [],
   "source": [
    "# compute length of longest sentence in batch\n",
    "batch_max_len = max([len(s) for s in batch_tok_idx])"
   ]
  },
  {
   "cell_type": "markdown",
   "metadata": {},
   "source": [
    "Q: Can you figure out the logic of what is happening in the next two cells?"
   ]
  },
  {
   "cell_type": "code",
   "execution_count": 19,
   "metadata": {},
   "outputs": [],
   "source": [
    "batch_input = vocab[\"PAD\"] * np.ones((batch_size, batch_max_len))\n",
    "batch_labels = -1 * np.ones((batch_size, batch_max_len))"
   ]
  },
  {
   "cell_type": "code",
   "execution_count": 20,
   "metadata": {},
   "outputs": [],
   "source": [
    "# copy the data to the numpy array\n",
    "for i in range(batch_size):\n",
    "    tok_idx = batch_tok_idx[i]\n",
    "    tags = batch_tags[i]\n",
    "    size = len(tok_idx)\n",
    "\n",
    "    batch_input[i][:size] = tok_idx\n",
    "    batch_labels[i][:size] = tags"
   ]
  },
  {
   "cell_type": "markdown",
   "metadata": {},
   "source": [
    "The last step is to conver the arrays into ```pytorch``` tensors, ready for the NN model."
   ]
  },
  {
   "cell_type": "code",
   "execution_count": null,
   "metadata": {},
   "outputs": [],
   "source": [
    "# since all data are indices, we convert them to torch LongTensors (integers)\n",
    "batch_input, batch_labels = torch.LongTensor(batch_input), torch.LongTensor(\n",
    "    batch_labels\n",
    ")"
   ]
  },
  {
   "cell_type": "markdown",
   "metadata": {},
   "source": [
    "With our data now batched and processed, we want to run it through our RNN the same way as when we trained a clasifier. Note that this cell is incomplete and won't yet run; that's part of the assignment!\n",
    "\n",
    "Q: Why is ```output_dim = num_classes + 1```?"
   ]
  },
  {
   "cell_type": "code",
   "execution_count": 1,
   "metadata": {},
   "outputs": [
    {
     "ename": "NameError",
     "evalue": "name 'RNN' is not defined",
     "output_type": "error",
     "traceback": [
      "\u001b[0;31m---------------------------------------------------------------------------\u001b[0m",
      "\u001b[0;31mNameError\u001b[0m                                 Traceback (most recent call last)",
      "Cell \u001b[0;32mIn [1], line 3\u001b[0m\n\u001b[1;32m      1\u001b[0m \u001b[38;5;66;03m#I think this means I have to check the previous assignment, I guess there is only one on NNs and that is the one\u001b[39;00m\n\u001b[1;32m      2\u001b[0m \u001b[38;5;66;03m# CREATE MODEL\u001b[39;00m\n\u001b[0;32m----> 3\u001b[0m model \u001b[38;5;241m=\u001b[39m \u001b[43mRNN\u001b[49m(\n\u001b[1;32m      4\u001b[0m     embedding_layer\u001b[38;5;241m=\u001b[39membedding_layer, output_dim\u001b[38;5;241m=\u001b[39mnum_classes \u001b[38;5;241m+\u001b[39m \u001b[38;5;241m1\u001b[39m, hidden_dim_size\u001b[38;5;241m=\u001b[39m\u001b[38;5;241m256\u001b[39m\n\u001b[1;32m      5\u001b[0m )\n\u001b[1;32m      7\u001b[0m \u001b[38;5;66;03m# FORWARD PASS\u001b[39;00m\n\u001b[1;32m      8\u001b[0m X \u001b[38;5;241m=\u001b[39m batch_input\n",
      "\u001b[0;31mNameError\u001b[0m: name 'RNN' is not defined"
     ]
    }
   ],
   "source": [
    "#I think this means I have to check the previous assignment, I guess there is only one on NNs and that is the one\n",
    "# CREATE MODEL\n",
    "model = RNN(\n",
    "    embedding_layer=embedding_layer, output_dim=num_classes + 1, hidden_dim_size=256\n",
    ")\n",
    "\n",
    "# FORWARD PASS\n",
    "X = batch_input\n",
    "y = model(X)\n",
    "\n",
    "loss = model.loss_fn(outputs=y, labels=batch_labels)\n",
    "\n",
    "# etc, etc"
   ]
  },
  {
   "cell_type": "markdown",
   "metadata": {},
   "source": [
    "## 3. Creating an LSTM with ```pytorch```"
   ]
  },
  {
   "cell_type": "markdown",
   "metadata": {},
   "source": [
    "In the file [LSTM.py](../src/LSTM.py), I've aready created an LSTM for you using ```pytorch```. Take some time to read through the code and make sure you understand how it's built up.\n",
    "\n",
    "Some questions for you to discuss in groups:\n",
    "\n",
    "- How is an LSTM layer created using ```pytorch```? How does the code compare to the classifier code you wrote last week?\n",
    "- What's going on with that weird bit that says ```@staticmethod```?\n",
    "  - [This might help](https://realpython.com/instance-class-and-static-methods-demystified/).\n",
    "- On the forward pass, we use ```log_softmax()``` to make output predictions. What is this, and how does it relate to the output from the sigmoid function that we used in the document classification?\n",
    "- How would we make this LSTM model *bidirectional* - i.e. make it a Bi-LSTM? \n",
    "  - Hint: Check the documentation for the LSTM layer on the ```pytorch``` website."
   ]
  }
 ],
 "metadata": {
  "kernelspec": {
   "display_name": "Python 3.9.2 64-bit",
   "language": "python",
   "name": "python3"
  },
  "language_info": {
   "codemirror_mode": {
    "name": "ipython",
    "version": 3
   },
   "file_extension": ".py",
   "mimetype": "text/x-python",
   "name": "python",
   "nbconvert_exporter": "python",
   "pygments_lexer": "ipython3",
   "version": "3.9.2"
  },
  "orig_nbformat": 4,
  "vscode": {
   "interpreter": {
    "hash": "31f2aee4e71d21fbe5cf8b01ff0e069b9275f58929596ceb00d14d90e3e16cd6"
   }
  }
 },
 "nbformat": 4,
 "nbformat_minor": 2
}
